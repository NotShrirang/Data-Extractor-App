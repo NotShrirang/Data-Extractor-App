{
 "cells": [
  {
   "cell_type": "code",
   "execution_count": 9,
   "metadata": {},
   "outputs": [],
   "source": [
    "from selenium import webdriver\n",
    "from selenium.webdriver.chrome.options import Options\n",
    "from selenium.webdriver.chrome.service import Service\n",
    "from selenium.webdriver.common.by import By\n",
    "from selenium.webdriver.support.ui import WebDriverWait\n",
    "from selenium.webdriver.support import expected_conditions as EC\n",
    "import os\n",
    "from PyPDF2 import PdfReader\n",
    "import re"
   ]
  },
  {
   "cell_type": "code",
   "execution_count": 10,
   "metadata": {},
   "outputs": [
    {
     "data": {
      "text/plain": [
       "'d:\\\\Files\\\\Training\\\\Python\\\\Python Data Extraction Assignment\\\\Data-Extractor-App'"
      ]
     },
     "execution_count": 10,
     "metadata": {},
     "output_type": "execute_result"
    }
   ],
   "source": [
    "path = os.path.dirname(os.path.abspath('__file__'))\n",
    "path"
   ]
  },
  {
   "cell_type": "code",
   "execution_count": 11,
   "metadata": {},
   "outputs": [],
   "source": [
    "chrome_options = webdriver.ChromeOptions()\n",
    "chrome_options.add_experimental_option('prefs', {'plugins.always_open_pdf_externally' : True, \"directory_upgrade\": True, \"safebrowsing.enabled\":False,\n",
    "                                                 \"download.default_directory\" : path})"
   ]
  },
  {
   "cell_type": "code",
   "execution_count": 12,
   "metadata": {},
   "outputs": [
    {
     "name": "stdout",
     "output_type": "stream",
     "text": [
      "Error\n"
     ]
    }
   ],
   "source": [
    "driver = webdriver.Chrome(options=chrome_options)\n",
    "driver.get('https://assets.airtel.in/teams/simplycms/web/docs/Draft-Annual-Return-FY-2021-22.pdf')\n",
    "try:\n",
    "    WebDriverWait(driver, 1).until(EC.element_to_be_clickable((By.XPATH, r\"/html/body/pdf-viewer/viewer-toolbar/div/div[3]/viewer-download-controls/cr-icon-button\"))).click()\n",
    "    print('Done')\n",
    "except:\n",
    "    print(\"Error\")\n",
    "\n",
    "driver.quit()"
   ]
  },
  {
   "cell_type": "code",
   "execution_count": 14,
   "metadata": {},
   "outputs": [
    {
     "name": "stdout",
     "output_type": "stream",
     "text": [
      "Page 1 of 21\n",
      " FORM NO. MGT-7  \n",
      "[Pursuant to sub-Section(1) of section 92 of \n",
      "the Companies Act, 2013 and sub-rule (1) of rule 11of the Companies (Management and Administration) Rules, 2014]  \n",
      " \n",
      "  \n",
      "  Annual Return \n",
      "(other than OPCs and Small \n",
      "Companies)  \n",
      "   \n",
      " \n",
      "  \n",
      "   I. REGISTRATION AND OTHER DETAILS    \n",
      "  (i) * Corporate Identification Number (CIN) of the company L74899HR1995PLC095967Hindi English Form language\n",
      "Refer the instruction kit for filing the form.\n",
      "         Global Location Number (GLN) of the company  \n",
      "  (ii)  (a) Name of the company BHARTI AIRTEL LIMITED\n",
      "  (b) Registered office address\n",
      "Airtel Center, Plot No. 16, Udyog Vihar, \n",
      "Phase-IV, Gurugram Gurgaon Haryana \n",
      "122015\n",
      "        (c) *e-mail ID of the company  compliance.officer@bharti.in\n",
      "        (d) *Telephone number with STD code 01146666100\n",
      "        (e)  Website www.airtel.com\n",
      "  (iii)      Date of Incorporation 07/07/1995\n",
      " Type of the Company  \n",
      "    Category of the Company  \n",
      "    Sub-category of the Company  \n",
      "   \n",
      "Public Company Company limited by shares Indian Non-Government company  (iv)\n",
      "  (v) Whether company is having share capital  \n",
      "  Yes No\n",
      "  (vi) *Whether shares listed on recognized Stock Exchange(s)  \n",
      "  Yes NoPre-fill\n",
      "      *  Permanent Account Number (PAN) of the company AAACB2894G\n"
     ]
    }
   ],
   "source": [
    "reader = PdfReader(\"Draft-Annual-Return-FY-2021-22.pdf\")\n",
    "page = reader.pages[0]\n",
    "print(page.extract_text())"
   ]
  },
  {
   "cell_type": "code",
   "execution_count": 15,
   "metadata": {},
   "outputs": [
    {
     "name": "stdout",
     "output_type": "stream",
     "text": [
      "Page 2 of 21 (a) Details of stock exchanges where shares are listed   \n",
      " S. No.  \n",
      "    Stock Exchange Name  \n",
      "    Code  \n",
      "   \n",
      "1 National Stock Exchange Limited 1,024\n",
      "2 BSE Limited 1\n",
      " Name of the Registrar and Transfer Agent   \n",
      "KFIN TECHNOLOGIES LIMITED         (b) CIN of the Registrar and Transfer Agent   U72400TG2017PLC117649\n",
      " Registered office address of the Registrar and Transfer Agents   \n",
      "Selenium, Tower B, Plot No- 31 & 32, \n",
      "Financial District, Nanakramguda, Serilingampally Pre-fill\n",
      "  (vii) *Financial year From date 01/04/2021 (DD/MM/YYYY)   To date 31/03/2022  (DD/MM/YYYY)  \n",
      "  \n",
      "   (viii) *Whether Annual general meeting (AGM) held  \n",
      "  Yes No\n",
      "(a) If yes, date of AGM   \n",
      "(b) Due date of AGM   31/08/2022\n",
      " (c) Whether any extension for AGM granted   Yes No\n",
      "  II. PRINCIPAL BUSINESS ACTIVITIES OF THE COMPANY   \n",
      "*Number of business activities  1\n",
      "S.No Main \n",
      "Activity group code Description of Main Activity group     Business Activity Code  Description of Business Activity      % of turnover of the company\n",
      "1 J Information and communication J5Wired, wireless or satellite \n",
      "Telecommunication activities87.56\n",
      " III. PARTICULARS OF HOLDING, SUBSIDIARY AND ASSOCIATE COMPANIES  \n",
      "      (INCLUDING JOINT VENTURES)  \n",
      "*No. of Companies for which information is to be given  121 Pre-fill All\n",
      "S.No Name of the company  \n",
      " CIN / FCRN Holding/ Subsidiary/Associate/ \n",
      "Joint Venture% of shares held  \n",
      "    \n",
      "1 BHARTI TELECOM LIMITED U32039HR1985PLC032091 Holding 35.85\n",
      "2 BHARTI AIRTEL SERVICES LIMI TU64201DL1997PLC091001 Subsidiary 100\n"
     ]
    }
   ],
   "source": [
    "page2 = reader.pages[1]\n",
    "print(page2.extract_text())"
   ]
  },
  {
   "cell_type": "code",
   "execution_count": 16,
   "metadata": {},
   "outputs": [
    {
     "data": {
      "text/plain": [
       "'Page 1 of 21\\n FORM NO. MGT-7  \\n[Pursuant to sub-Section(1) of section 92 of \\nthe Companies Act, 2013 and sub-rule (1) of rule 11of the Companies (Management and Administration) Rules, 2014]  \\n \\n  \\n  Annual Return \\n(other than OPCs and Small \\nCompanies)  \\n   \\n \\n  \\n   I. REGISTRATION AND OTHER DETAILS    \\n  (i) * Corporate Identification Number (CIN) of the company L74899HR1995PLC095967Hindi English Form language\\nRefer the instruction kit for filing the form.\\n         Global Location Number (GLN) of the company  \\n  (ii)  (a) Name of the company BHARTI AIRTEL LIMITED\\n  (b) Registered office address\\nAirtel Center, Plot No. 16, Udyog Vihar, \\nPhase-IV, Gurugram Gurgaon Haryana \\n122015\\n        (c) *e-mail ID of the company  compliance.officer@bharti.in\\n        (d) *Telephone number with STD code 01146666100\\n        (e)  Website www.airtel.com\\n  (iii)      Date of Incorporation 07/07/1995\\n Type of the Company  \\n    Category of the Company  \\n    Sub-category of the Company  \\n   \\nPublic Company Company limited by shares Indian Non-Government company  (iv)\\n  (v) Whether company is having share capital  \\n  Yes No\\n  (vi) *Whether shares listed on recognized Stock Exchange(s)  \\n  Yes NoPre-fill\\n      *  Permanent Account Number (PAN) of the company AAACB2894G'"
      ]
     },
     "execution_count": 16,
     "metadata": {},
     "output_type": "execute_result"
    }
   ],
   "source": [
    "page.extract_text()"
   ]
  },
  {
   "cell_type": "code",
   "execution_count": 17,
   "metadata": {},
   "outputs": [
    {
     "data": {
      "text/plain": [
       "<re.Match object; span=(345, 365), match='(CIN) of the company'>"
      ]
     },
     "execution_count": 17,
     "metadata": {},
     "output_type": "execute_result"
    }
   ],
   "source": [
    "re.search(r'\\(CIN\\) of the company', page.extract_text())"
   ]
  },
  {
   "cell_type": "code",
   "execution_count": 18,
   "metadata": {},
   "outputs": [
    {
     "data": {
      "text/plain": [
       "'Page 1 of 21  FORM NO. MGT-7   [Pursuant to sub-Section(1) of section 92 of  the Companies Act, 2013 and sub-rule (1) of rule 11of the Companies (Management and Administration) Rules, 2014]          Annual Return  (other than OPCs and Small  Companies)               I. REGISTRATION AND OTHER DETAILS       (i) * Corporate Identification Number (CIN) of the company L74899HR1995PLC095967Hindi English Form language Refer the instruction kit for filing the form.          Global Location Number (GLN) of the company     (ii)  (a) Name of the company BHARTI AIRTEL LIMITED   (b) Registered office address Airtel Center, Plot No. 16, Udyog Vihar,  Phase-IV, Gurugram Gurgaon Haryana  122015         (c) *e-mail ID of the company  compliance.officer@bharti.in         (d) *Telephone number with STD code 01146666100         (e)  Website www.airtel.com   (iii)      Date of Incorporation 07/07/1995  Type of the Company       Category of the Company       Sub-category of the Company       Public Company Company limited by shares Indian Non-Government company  (iv)   (v) Whether company is having share capital     Yes No   (vi) *Whether shares listed on recognized Stock Exchange(s)     Yes NoPre-fill       *  Permanent Account Number (PAN) of the company AAACB2894G'"
      ]
     },
     "execution_count": 18,
     "metadata": {},
     "output_type": "execute_result"
    }
   ],
   "source": [
    "text = \" \".join(page.extract_text().split('\\n'))\n",
    "text"
   ]
  },
  {
   "cell_type": "code",
   "execution_count": 23,
   "metadata": {},
   "outputs": [
    {
     "data": {
      "text/plain": [
       "['L74899HR1995PLC095967']"
      ]
     },
     "execution_count": 23,
     "metadata": {},
     "output_type": "execute_result"
    }
   ],
   "source": [
    "re.findall(r'[UL]\\d{5}[a-zA-Z]{2}\\d{4}[a-zA-Z]{3}\\d{6}', text)"
   ]
  },
  {
   "cell_type": "code",
   "execution_count": 48,
   "metadata": {},
   "outputs": [
    {
     "name": "stdout",
     "output_type": "stream",
     "text": [
      "CIN: ['L74899HR1995PLC095967']\n",
      "EMAIL: ['compliance.officer@bharti.in']\n",
      "PHONE2: ['01146666100']\n",
      "PAN: ['AAACB2894G']\n",
      "CIN: ['U72400TG2017PLC117649', 'U32039HR1985PLC032091', 'U64201DL1997PLC091001']\n",
      "CIN: ['U74899DL1995PLC067527', 'U32204DL2008PLC183976', 'U92200DL2006PLC156075', 'U65100DL2010PLC201058', 'U64200HR2009PLC096372', 'U72200DL2013PLC254747', 'U74140HR2015PLC096027', 'U64200HR2021PLC093754', 'U93000HR2010PLC094599']\n"
     ]
    }
   ],
   "source": [
    "for page in reader.pages[0:3]:\n",
    "    text = \" \".join(page.extract_text().split('\\n'))\n",
    "    cin = re.findall(r'[UL]\\d{5}[a-zA-Z]{2}\\d{4}[a-zA-Z]{3}\\d{6}', text)\n",
    "    email = re.findall(r'[\\w\\.-]+@[\\w-]+\\.[\\w-]+', text)\n",
    "    phone3 = re.findall(r'\\+\\d{12}', text)\n",
    "    phone2 = re.findall(r'\\d{11}', text)\n",
    "    phone1 = re.findall(r'\\d{10}$', text)\n",
    "    pan = re.findall(r'[a-zA-Z]{5}[0-9]{4}[a-zA-Z]{1}', text)\n",
    "\n",
    "    if cin != []:\n",
    "        print(\"CIN: \" + str(cin))\n",
    "    if email != []:\n",
    "        print(\"EMAIL: \" + str(email))\n",
    "    if phone1 != []:\n",
    "        print(\"PHONE1: \" + str(phone1))\n",
    "    if phone2 != []:\n",
    "        print(\"PHONE2: \" + str(phone2))\n",
    "    if phone3 != []:\n",
    "        print(\"PHONE3: \" + str(phone3))\n",
    "    if pan != []:\n",
    "        print(\"PAN: \" + str(pan))"
   ]
  },
  {
   "cell_type": "code",
   "execution_count": null,
   "metadata": {},
   "outputs": [],
   "source": []
  }
 ],
 "metadata": {
  "kernelspec": {
   "display_name": "venv",
   "language": "python",
   "name": "python3"
  },
  "language_info": {
   "codemirror_mode": {
    "name": "ipython",
    "version": 3
   },
   "file_extension": ".py",
   "mimetype": "text/x-python",
   "name": "python",
   "nbconvert_exporter": "python",
   "pygments_lexer": "ipython3",
   "version": "3.11.6"
  }
 },
 "nbformat": 4,
 "nbformat_minor": 2
}
